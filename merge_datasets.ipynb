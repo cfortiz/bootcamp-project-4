{
 "cells": [
  {
   "cell_type": "code",
   "execution_count": 1,
   "id": "352f260b-eccc-408d-b5b1-b31db387e87c",
   "metadata": {},
   "outputs": [
    {
     "name": "stdout",
     "output_type": "stream",
     "text": [
      "Requirement already satisfied: geopy in c:\\users\\kassidy munnminoda\\anaconda3\\envs\\dev\\lib\\site-packages (2.4.1)\n",
      "Requirement already satisfied: geographiclib<3,>=1.52 in c:\\users\\kassidy munnminoda\\anaconda3\\envs\\dev\\lib\\site-packages (from geopy) (2.0)\n"
     ]
    }
   ],
   "source": [
    "# Install geopy\n",
    "!pip install geopy"
   ]
  },
  {
   "cell_type": "code",
   "execution_count": 2,
   "id": "b2fd2e0d-c9ed-472a-8e1f-28c4af20eff3",
   "metadata": {},
   "outputs": [],
   "source": [
    "# Import necessary libraries\n",
    "import pandas as pd\n",
    "from geopy.distance import geodesic\n",
    "\n",
    "# Load datasets\n",
    "crash_data_path = 'resources/crash_data_2.csv'\n",
    "weather_data_path = 'resources/new_york_weather.csv'\n",
    "\n",
    "crash_data = pd.read_csv(crash_data_path)\n",
    "weather_data = pd.read_csv(weather_data_path)"
   ]
  },
  {
   "cell_type": "code",
   "execution_count": 3,
   "id": "60302809-46f1-4be9-9c21-d69f5d03e1ab",
   "metadata": {},
   "outputs": [],
   "source": [
    "# Convert crash date and time to a single datetime column\n",
    "crash_data['crash_datetime'] = pd.to_datetime(\n",
    "    crash_data['crash_date'] + ' ' + crash_data['crash_time'], errors='coerce'\n",
    ")"
   ]
  },
  {
   "cell_type": "code",
   "execution_count": 5,
   "id": "64240bc2-c75a-4395-bbc7-d13e32187933",
   "metadata": {},
   "outputs": [],
   "source": [
    "# Round crash datetime to the nearest hour\n",
    "crash_data['crash_datetime'] = crash_data['crash_datetime'].dt.round('h')"
   ]
  },
  {
   "cell_type": "code",
   "execution_count": 6,
   "id": "6a3c9220-5109-409c-beaf-3d52eb8a01b2",
   "metadata": {},
   "outputs": [],
   "source": [
    "# Remove timezone information from weather datetime and convert to datetime\n",
    "weather_data['dt_iso_cleaned'] = weather_data['dt_iso'].str.replace(' \\+0000 UTC', '', regex=True)\n",
    "# Parse the cleaned column into datetime\n",
    "weather_data['weather_datetime'] = pd.to_datetime(\n",
    "    weather_data['dt_iso_cleaned'], format='%Y-%m-%d %H:%M:%S', errors='coerce'\n",
    ")"
   ]
  },
  {
   "cell_type": "code",
   "execution_count": 7,
   "id": "8e3fcf85-73a4-4de8-a881-f5dfd8eb6d80",
   "metadata": {},
   "outputs": [],
   "source": [
    "# Select relevant columns for merging\n",
    "crash_data_relevant = crash_data[['crash_datetime', 'number_of_persons_injured', \n",
    "                                  'number_of_persons_killed','number_of_pedestrians_injured', \n",
    "                                  'number_of_pedestrians_killed', 'number_of_cyclist_injured',\n",
    "                                  'number_of_cyclist_killed', 'number_of_motorist_injured', \n",
    "                                  'number_of_motorist_killed', 'collision_id', 'latitude', 'longitude']]\n",
    "weather_data_relevant = weather_data[['weather_datetime', 'temp', 'visibility', \n",
    "                                      'humidity', 'rain_1h', 'weather_main', 'weather_description', \n",
    "                                     'lat', 'lon']]\n"
   ]
  },
  {
   "cell_type": "code",
   "execution_count": 8,
   "id": "cafacaa6-512a-4394-acd0-21c2a52995de",
   "metadata": {},
   "outputs": [],
   "source": [
    "# Merge crash and weather data on datetime\n",
    "merged_data = pd.merge(crash_data_relevant, weather_data_relevant, \n",
    "                                   left_on='crash_datetime', right_on='weather_datetime', how='inner')"
   ]
  },
  {
   "cell_type": "code",
   "execution_count": 10,
   "id": "6a20602c-9f0a-45a2-bc77-625a97c164f4",
   "metadata": {},
   "outputs": [],
   "source": [
    "# Define the calculate_distance function\n",
    "def calculate_distance(row):\n",
    "    try:\n",
    "        crash_coords = (row['latitude'], row['longitude'])\n",
    "        weather_coords = (row['lat'], row['lon'])\n",
    "        return geodesic(crash_coords, weather_coords).meters\n",
    "    except Exception as e:\n",
    "        print(f\"Error calculating distance for row {row.name}: {e}\")\n",
    "        return None"
   ]
  },
  {
   "cell_type": "code",
   "execution_count": 19,
   "id": "76adee65-5acf-41dd-92fc-33a565337e2d",
   "metadata": {},
   "outputs": [],
   "source": [
    "# Filter out rows with missing coordinates\n",
    "merged_data_cleaned = merged_data.dropna(subset=['latitude', 'longitude', 'lat', 'lon'])"
   ]
  },
  {
   "cell_type": "code",
   "execution_count": 16,
   "id": "f1c01a94-8330-4c48-bc56-ea6d90d7155e",
   "metadata": {},
   "outputs": [
    {
     "name": "stdout",
     "output_type": "stream",
     "text": [
      "Sample row: crash_datetime                   2022-01-01 08:00:00\n",
      "number_of_persons_injured                          0\n",
      "number_of_persons_killed                           0\n",
      "number_of_pedestrians_injured                      0\n",
      "number_of_pedestrians_killed                       0\n",
      "number_of_cyclist_injured                          0\n",
      "number_of_cyclist_killed                           0\n",
      "number_of_motorist_injured                         0\n",
      "number_of_motorist_killed                          0\n",
      "collision_id                                 4491400\n",
      "latitude                                   40.771477\n",
      "longitude                                  -73.91824\n",
      "weather_datetime                 2022-01-01 08:00:00\n",
      "temp                                           50.32\n",
      "visibility                                   10000.0\n",
      "humidity                                          88\n",
      "rain_1h                                          NaN\n",
      "weather_main                                  Clouds\n",
      "weather_description                  overcast clouds\n",
      "lat                                        40.712775\n",
      "lon                                       -74.005973\n",
      "Name: 0, dtype: object\n",
      "Distance for sample row: 9869.37806204049\n"
     ]
    }
   ],
   "source": [
    "# Test the function on a single row\n",
    "sample_row = merged_data_cleaned.iloc[0]\n",
    "print(\"Sample row:\", sample_row)\n",
    "distance_test = calculate_distance(sample_row)\n",
    "print(\"Distance for sample row:\", distance_test)"
   ]
  },
  {
   "cell_type": "code",
   "execution_count": 20,
   "id": "b8f9f0db-6d5d-4142-ab1e-4cdc43b1f4d0",
   "metadata": {},
   "outputs": [],
   "source": [
    "# Ensure merged_data_cleaned is a standalone DataFrame\n",
    "merged_data_cleaned = merged_data_cleaned.copy()\n",
    "\n",
    "# Apply the distance calculation\n",
    "merged_data_cleaned.loc[:, 'distance'] = merged_data_cleaned.apply(calculate_distance, axis=1)\n",
    "\n",
    "# Drop rows with invalid distances\n",
    "merged_data_cleaned = merged_data_cleaned.dropna(subset=['distance'])\n",
    "\n",
    "# Filter by proximity threshold\n",
    "merged_data_filtered = merged_data_cleaned[merged_data_cleaned['distance'] <= 10000]"
   ]
  },
  {
   "cell_type": "code",
   "execution_count": 21,
   "id": "07bbf27d-99b8-45dc-8026-68edc3d7119b",
   "metadata": {},
   "outputs": [
    {
     "name": "stderr",
     "output_type": "stream",
     "text": [
      "C:\\Users\\Kassidy MunnMinoda\\AppData\\Local\\Temp\\ipykernel_34076\\2559822578.py:2: SettingWithCopyWarning: \n",
      "A value is trying to be set on a copy of a slice from a DataFrame.\n",
      "Try using .loc[row_indexer,col_indexer] = value instead\n",
      "\n",
      "See the caveats in the documentation: https://pandas.pydata.org/pandas-docs/stable/user_guide/indexing.html#returning-a-view-versus-a-copy\n",
      "  merged_data_filtered.loc[:, 'crash_occurred'] = 1\n"
     ]
    }
   ],
   "source": [
    "# Add a binary target variable for crashes\n",
    "merged_data_filtered.loc[:, 'crash_occurred'] = 1"
   ]
  },
  {
   "cell_type": "code",
   "execution_count": 22,
   "id": "9195cc94-d353-4f1f-bc5e-cf68d6c394b7",
   "metadata": {},
   "outputs": [],
   "source": [
    "# Save the merged data to a CSV file\n",
    "output_path = 'resources/merged_crash_weather_data.csv'\n",
    "merged_data.to_csv(output_path, index=False)"
   ]
  }
 ],
 "metadata": {
  "kernelspec": {
   "display_name": "Python 3 (ipykernel)",
   "language": "python",
   "name": "python3"
  },
  "language_info": {
   "codemirror_mode": {
    "name": "ipython",
    "version": 3
   },
   "file_extension": ".py",
   "mimetype": "text/x-python",
   "name": "python",
   "nbconvert_exporter": "python",
   "pygments_lexer": "ipython3",
   "version": "3.10.14"
  }
 },
 "nbformat": 4,
 "nbformat_minor": 5
}
