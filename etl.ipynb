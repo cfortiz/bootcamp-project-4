{
 "cells": [
  {
   "cell_type": "code",
   "execution_count": null,
   "metadata": {},
   "outputs": [],
   "source": [
    "import datetime\n",
    "import sqlite3\n",
    "import urllib.parse\n",
    "\n",
    "import requests\n",
    "\n",
    "from config import weather_api_key  # OpenWeatherMap API key from config.py"
   ]
  },
  {
   "cell_type": "code",
   "execution_count": 72,
   "metadata": {},
   "outputs": [],
   "source": [
    "CRASH_DATA_URL = \"https://data.cityofnewyork.us/resource/h9gi-nx95.json?$query=SELECT%0A%20%20%60crash_date%60%2C%0A%20%20%60crash_time%60%2C%0A%20%20%60borough%60%2C%0A%20%20%60zip_code%60%2C%0A%20%20%60latitude%60%2C%0A%20%20%60longitude%60%2C%0A%20%20%60location%60%2C%0A%20%20%60on_street_name%60%2C%0A%20%20%60off_street_name%60%2C%0A%20%20%60cross_street_name%60%2C%0A%20%20%60number_of_persons_injured%60%2C%0A%20%20%60number_of_persons_killed%60%2C%0A%20%20%60number_of_pedestrians_injured%60%2C%0A%20%20%60number_of_pedestrians_killed%60%2C%0A%20%20%60number_of_cyclist_injured%60%2C%0A%20%20%60number_of_cyclist_killed%60%2C%0A%20%20%60number_of_motorist_injured%60%2C%0A%20%20%60number_of_motorist_killed%60%2C%0A%20%20%60contributing_factor_vehicle_1%60%2C%0A%20%20%60contributing_factor_vehicle_2%60%2C%0A%20%20%60contributing_factor_vehicle_3%60%2C%0A%20%20%60contributing_factor_vehicle_4%60%2C%0A%20%20%60contributing_factor_vehicle_5%60%2C%0A%20%20%60collision_id%60%2C%0A%20%20%60vehicle_type_code1%60%2C%0A%20%20%60vehicle_type_code2%60%2C%0A%20%20%60vehicle_type_code_3%60%2C%0A%20%20%60vehicle_type_code_4%60%2C%0A%20%20%60vehicle_type_code_5%60%0AWHERE%0A%20%20%60crash_date%60%0A%20%20%20%20BETWEEN%20%222022-01-01T17%3A20%3A02%22%20%3A%3A%20floating_timestamp%0A%20%20%20%20AND%20%222024-12-03T17%3A20%3A02%22%20%3A%3A%20floating_timestamp%0AORDER%20BY%20%60crash_date%60%20ASC%20NULL%20LAST\"\n",
    "WEATHER_DATA_URL = \"https://openweathermap.org/history\"\n",
    "WEATHER_API_APPID = weather_api_key\n",
    "SQLITE_DB = \"resources/weather_crash_data.db\""
   ]
  },
  {
   "cell_type": "code",
   "execution_count": 73,
   "metadata": {},
   "outputs": [],
   "source": [
    "def extract():\n",
    "    try:\n",
    "        crash_data = extract_crash_data()\n",
    "    except:\n",
    "        crash_data = \"ERROR\"\n",
    "    try:\n",
    "        crash_locations = get_crash_locations(crash_data)\n",
    "        weather_data = extract_weather_data(crash_locations)\n",
    "    except:\n",
    "        weather_data = \"ERROR\"\n",
    "    \n",
    "    return dict(\n",
    "        crash_data=crash_data,\n",
    "        weather_data=weather_data,\n",
    "    )"
   ]
  },
  {
   "cell_type": "code",
   "execution_count": 74,
   "metadata": {},
   "outputs": [],
   "source": [
    "def extract_crash_data():\n",
    "    crash_data_url = CRASH_DATA_URL\n",
    "    response = requests.get(crash_data_url)\n",
    "    return response.json()"
   ]
  },
  {
   "cell_type": "code",
   "execution_count": 75,
   "metadata": {},
   "outputs": [],
   "source": [
    "def get_crash_locations(crash_data):\n",
    "    locations = set()\n",
    "    for record in crash_data:\n",
    "        try:\n",
    "            lat, lon = record[\"latitude\"], record[\"longitude\"]\n",
    "            assert float(lat) and float(lon)\n",
    "            location = (lat, lon)\n",
    "            locations.add(location)\n",
    "        except KeyError:\n",
    "            pass\n",
    "        except AssertionError:\n",
    "            pass\n",
    "    return sorted(locations)"
   ]
  },
  {
   "cell_type": "code",
   "execution_count": 76,
   "metadata": {},
   "outputs": [],
   "source": [
    "def extract_weather_data(locations):\n",
    "    assert locations and isinstance(locations, list)\n",
    "    \n",
    "    weather_data = {}\n",
    "    for location in locations:\n",
    "        lat, lon = location\n",
    "        type_ = \"hour\"\n",
    "        appid = WEATHER_API_APPID\n",
    "        start = datetime.date(2022, 1, 1).toordinal()\n",
    "        weather_data[location] = extract_weather_data_for_location(location)\n",
    "    return response.json()"
   ]
  },
  {
   "cell_type": "code",
   "execution_count": 77,
   "metadata": {},
   "outputs": [],
   "source": [
    "def extract_weather_data_for_location(location):\n",
    "    lat, lon = location\n",
    "    # weather_data_url = f\"https://history.openweathermap.org/data/2.5/history/city?lat={lat}&lon={lon}&type=hour&start={start}&end={end}&appid={appid}\"\n",
    "    weather_data_url = f\"https://history.openweathermap.org/data/2.5/history/city?lat={lat}&lon={lon}&type=hour&appid={appid}\"\n",
    "    response = requests.get(weather_data_url)\n",
    "    return response.json()"
   ]
  },
  {
   "cell_type": "code",
   "execution_count": 78,
   "metadata": {},
   "outputs": [],
   "source": [
    "def est_date_to_utc_timestamp(est_date):\n",
    "    \"\"\"Convert a date in EST timezone to a UTC timestamp.\"\"\"\n",
    "    est_timestamp = est_date.timestamp()\n",
    "    utc_timestamp = est_timestamp + 5 * 3600\n",
    "    return utc_timestamp"
   ]
  },
  {
   "cell_type": "code",
   "execution_count": 79,
   "metadata": {},
   "outputs": [],
   "source": [
    "# Prototyping crash data extraction and processing\n",
    "# crash_data = extract_crash_data()\n",
    "# crash_locations = get_crash_locations(crash_data)\n",
    "\n",
    "# center_lat, center_lon, n = 0.0, 0.0, len(crash_locations)\n",
    "# for location in crash_locations:\n",
    "#     lat, lon = location\n",
    "#     center_lat += float(lat)\n",
    "#     center_lon += float(lon)\n",
    "# center_lat /= n\n",
    "# center_lon /= n\n",
    "# (center_lat, center_lon)\n",
    "# manhattan = (center_lat, center_lon)"
   ]
  },
  {
   "cell_type": "code",
   "execution_count": 80,
   "metadata": {},
   "outputs": [],
   "source": [
    "# Extract weather data for one location in Manhattan\n",
    "# weather_data = extract_weather_data_for_location(manhattan)"
   ]
  },
  {
   "cell_type": "code",
   "execution_count": null,
   "metadata": {},
   "outputs": [],
   "source": [
    "# Prototyping getting weather data for one location in Manhattan\n",
    "\n",
    "# Constant timestamps for prototyping\n",
    "jan_1_2022_timestamp = datetime.datetime(2022, 1, 1, 0, 0, 0).timestamp()\n",
    "jan_1_2025_timestamp = datetime.datetime(2025, 1, 1, 0, 0, 0).timestamp()\n",
    "dec_3_2024_timestamp = datetime.datetime(2024, 12, 3, 23, 59, 59).timestamp()\n",
    "\n",
    "# manhattan\n",
    "# start, end = jan_1_2022_timestamp, dec_3_2024_timestamp\n",
    "# lat, lon = manhattan\n",
    "# appid = \"REDACTED\"\n",
    "# url = f\"https://history.openweathermap.org/data/2.5/history/city?lat={lat}&lon={lon}&type=hour&start={start}&end={end}&appid={appid}\"\n",
    "# response = requests.get(url)\n",
    "# if response.status_code != 200:\n",
    "#     print(response.status_code)\n",
    "#     print(response.content)\n",
    "# else:\n",
    "#     weather_data = response.json()\n",
    "#     print(weather_data)"
   ]
  },
  {
   "cell_type": "code",
   "execution_count": 12,
   "metadata": {},
   "outputs": [],
   "source": [
    "crash_data = extract_crash_data()\n",
    "# weather_crash_data = extract()"
   ]
  },
  {
   "cell_type": "code",
   "execution_count": 13,
   "metadata": {},
   "outputs": [
    {
     "data": {
      "text/plain": [
       "{'crash_date': '2022-01-02T00:00:00.000',\n",
       " 'crash_time': '9:20',\n",
       " 'on_street_name': 'VANDAM STREET',\n",
       " 'off_street_name': 'BORDEN AVENUE',\n",
       " 'number_of_persons_injured': '0',\n",
       " 'number_of_persons_killed': '0',\n",
       " 'number_of_pedestrians_injured': '0',\n",
       " 'number_of_pedestrians_killed': '0',\n",
       " 'number_of_cyclist_injured': '0',\n",
       " 'number_of_cyclist_killed': '0',\n",
       " 'number_of_motorist_injured': '0',\n",
       " 'number_of_motorist_killed': '0',\n",
       " 'contributing_factor_vehicle_1': 'Failure to Yield Right-of-Way',\n",
       " 'contributing_factor_vehicle_2': 'Unspecified',\n",
       " 'collision_id': '4491517',\n",
       " 'vehicle_type_code1': 'Sedan',\n",
       " 'vehicle_type_code2': 'Box Truck'}"
      ]
     },
     "execution_count": 13,
     "metadata": {},
     "output_type": "execute_result"
    }
   ],
   "source": [
    "crash_data[0]"
   ]
  },
  {
   "cell_type": "code",
   "execution_count": 14,
   "metadata": {},
   "outputs": [],
   "source": [
    "data = extract()"
   ]
  },
  {
   "cell_type": "code",
   "execution_count": 15,
   "metadata": {},
   "outputs": [
    {
     "data": {
      "text/plain": [
       "{'crash_date': '2022-01-02T00:00:00.000',\n",
       " 'crash_time': '9:20',\n",
       " 'on_street_name': 'VANDAM STREET',\n",
       " 'off_street_name': 'BORDEN AVENUE',\n",
       " 'number_of_persons_injured': '0',\n",
       " 'number_of_persons_killed': '0',\n",
       " 'number_of_pedestrians_injured': '0',\n",
       " 'number_of_pedestrians_killed': '0',\n",
       " 'number_of_cyclist_injured': '0',\n",
       " 'number_of_cyclist_killed': '0',\n",
       " 'number_of_motorist_injured': '0',\n",
       " 'number_of_motorist_killed': '0',\n",
       " 'contributing_factor_vehicle_1': 'Failure to Yield Right-of-Way',\n",
       " 'contributing_factor_vehicle_2': 'Unspecified',\n",
       " 'collision_id': '4491517',\n",
       " 'vehicle_type_code1': 'Sedan',\n",
       " 'vehicle_type_code2': 'Box Truck'}"
      ]
     },
     "execution_count": 15,
     "metadata": {},
     "output_type": "execute_result"
    }
   ],
   "source": [
    "data[\"crash_data\"][0]"
   ]
  },
  {
   "cell_type": "code",
   "execution_count": 21,
   "metadata": {},
   "outputs": [],
   "source": [
    "# Data loading SQL queries\n",
    "CREATE_CRASH_DATA_TABLE_SQL = \"\"\"\n",
    "    CREATE TABLE IF NOT EXISTS crash_data (\n",
    "        crash_date TEXT,\n",
    "        crash_time TEXT,\n",
    "        borough TEXT,\n",
    "        zip_code TEXT,\n",
    "        latitude TEXT,\n",
    "        longitude TEXT,\n",
    "        location TEXT,\n",
    "        on_street_name TEXT,\n",
    "        off_street_name TEXT,\n",
    "        cross_street_name TEXT,\n",
    "        number_of_persons_injured INTEGER,\n",
    "        number_of_persons_killed INTEGER,\n",
    "        number_of_pedestrians_injured INTEGER,\n",
    "        number_of_pedestrians_killed INTEGER,\n",
    "        number_of_cyclist_injured INTEGER,\n",
    "        number_of_cyclist_killed INTEGER,\n",
    "        number_of_motorist_injured INTEGER,\n",
    "        number_of_motorist_killed INTEGER,\n",
    "        contributing_factor_vehicle_1 TEXT,\n",
    "        contributing_factor_vehicle_2 TEXT,\n",
    "        contributing_factor_vehicle_3 TEXT,\n",
    "        contributing_factor_vehicle_4 TEXT,\n",
    "        contributing_factor_vehicle_5 TEXT,\n",
    "        collision_id TEXT,\n",
    "        vehicle_type_code1 TEXT,\n",
    "        vehicle_type_code2 TEXT,\n",
    "        vehicle_type_code_3 TEXT,\n",
    "        vehicle_type_code_4 TEXT,\n",
    "        vehicle_type_code_5 TEXT\n",
    "    )\n",
    "\"\"\"\n",
    "INSERT_CRASH_DATA_SQL = \"\"\"\n",
    "    INSERT INTO crash_data (\n",
    "        crash_date,\n",
    "        crash_time,\n",
    "        borough,\n",
    "        zip_code,\n",
    "        latitude,\n",
    "        longitude,\n",
    "        location,\n",
    "        on_street_name,\n",
    "        off_street_name,\n",
    "        cross_street_name,\n",
    "        number_of_persons_injured,\n",
    "        number_of_persons_killed,\n",
    "        number_of_pedestrians_injured,\n",
    "        number_of_pedestrians_killed,\n",
    "        number_of_cyclist_injured,\n",
    "        number_of_cyclist_killed,\n",
    "        number_of_motorist_injured,\n",
    "        number_of_motorist_killed,\n",
    "        contributing_factor_vehicle_1,\n",
    "        contributing_factor_vehicle_2,\n",
    "        contributing_factor_vehicle_3,\n",
    "        contributing_factor_vehicle_4,\n",
    "        contributing_factor_vehicle_5,\n",
    "        collision_id,\n",
    "        vehicle_type_code1,\n",
    "        vehicle_type_code2,\n",
    "        vehicle_type_code_3,\n",
    "        vehicle_type_code_4,\n",
    "        vehicle_type_code_5\n",
    "    )\n",
    "    VALUES (?, ?, ?, ?, ?, ?, ?, ?, ?, ?, ?, ?, ?, ?, ?, ?, ?, ?, ?, ?, ?, ?, ?, ?, ?, ?, ?, ?, ?)\n",
    "\"\"\""
   ]
  },
  {
   "cell_type": "code",
   "execution_count": null,
   "metadata": {},
   "outputs": [],
   "source": [
    "# Data loading SQL queries\n",
    "CREATE_CRASH_DATA_TABLE_SQL = \"\"\"\n",
    "    CREATE TABLE IF NOT EXISTS crash_data (\n",
    "        crash_date TEXT,\n",
    "        crash_time TEXT,\n",
    "        borough TEXT,\n",
    "        zip_code TEXT,\n",
    "        latitude TEXT,\n",
    "        longitude TEXT,\n",
    "        location TEXT,\n",
    "        on_street_name TEXT,\n",
    "        off_street_name TEXT,\n",
    "        cross_street_name TEXT,\n",
    "        number_of_persons_injured INTEGER,\n",
    "        number_of_persons_killed INTEGER,\n",
    "        number_of_pedestrians_injured INTEGER,\n",
    "        number_of_pedestrians_killed INTEGER,\n",
    "        number_of_cyclist_injured INTEGER,\n",
    "        number_of_cyclist_killed INTEGER,\n",
    "        number_of_motorist_injured INTEGER,\n",
    "        number_of_motorist_killed INTEGER,\n",
    "        contributing_factor_vehicle_1 TEXT,\n",
    "        contributing_factor_vehicle_2 TEXT,\n",
    "        contributing_factor_vehicle_3 TEXT,\n",
    "        contributing_factor_vehicle_4 TEXT,\n",
    "        contributing_factor_vehicle_5 TEXT,\n",
    "        collision_id TEXT,\n",
    "        vehicle_type_code1 TEXT,\n",
    "        vehicle_type_code2 TEXT,\n",
    "        vehicle_type_code_3 TEXT,\n",
    "        vehicle_type_code_4 TEXT,\n",
    "        vehicle_type_code_5 TEXT\n",
    "    )\n",
    "\"\"\"\n",
    "INSERT_CRASH_DATA_SQL = \"\"\"\n",
    "    INSERT INTO crash_data (\n",
    "        crash_date,\n",
    "        crash_time,\n",
    "        borough,\n",
    "        zip_code,\n",
    "        latitude,\n",
    "        longitude,\n",
    "        location,\n",
    "        on_street_name,\n",
    "        off_street_name,\n",
    "        cross_street_name,\n",
    "        number_of_persons_injured,\n",
    "        number_of_persons_killed,\n",
    "        number_of_pedestrians_injured,\n",
    "        number_of_pedestrians_killed,\n",
    "        number_of_cyclist_injured,\n",
    "        number_of_cyclist_killed,\n",
    "        number_of_motorist_injured,\n",
    "        number_of_motorist_killed,\n",
    "        contributing_factor_vehicle_1,\n",
    "        contributing_factor_vehicle_2,\n",
    "        contributing_factor_vehicle_3,\n",
    "        contributing_factor_vehicle_4,\n",
    "        contributing_factor_vehicle_5,\n",
    "        collision_id,\n",
    "        vehicle_type_code1,\n",
    "        vehicle_type_code2,\n",
    "        vehicle_type_code_3,\n",
    "        vehicle_type_code_4,\n",
    "        vehicle_type_code_5\n",
    "    )\n",
    "    VALUES (?, ?, ?, ?, ?, ?, ?, ?, ?, ?, ?, ?, ?, ?, ?, ?, ?, ?, ?, ?, ?, ?, ?, ?, ?, ?, ?, ?, ?)\n",
    "\"\"\""
   ]
  },
  {
   "cell_type": "code",
   "execution_count": 66,
   "metadata": {},
   "outputs": [],
   "source": [
    "# Load the data into the SQLite database\n",
    "def load(data):\n",
    "    db = get_sqlite_db()\n",
    "    crash_data = data[\"crash_data\"]\n",
    "    # weather_data = data[\"weather_data\"]\n",
    "    load_crash_data(db, crash_data)\n",
    "    # load_weather_data(db, weather_data)\n",
    "    \n",
    "\n",
    "\n",
    "def get_sqlite_db():\n",
    "    conn = sqlite3.connect(SQLITE_DB)\n",
    "    return conn\n",
    "\n",
    "\n",
    "def load_crash_data(db, crash_data):\n",
    "    print(f\"There are {len(crash_data)} records to load.\")\n",
    "    \n",
    "    cursor = db.cursor()\n",
    "    cursor.execute(CREATE_CRASH_DATA_TABLE_SQL)\n",
    "    # cursor.executemany(INSERT_CRASH_DATA_SQL, crash_data) # May have errors\n",
    "    # for i, record in enumerate(crash_data, start=1):\n",
    "    for i, record in enumerate(crash_data[:10], start=1):\n",
    "        clean_record = clean_crash_record(record)\n",
    "        # Check the clean_record\n",
    "        assert len(clean_record) == 29\n",
    "        try:\n",
    "            values = clean_record.values()\n",
    "            cursor.execute(INSERT_CRASH_DATA_SQL, values)\n",
    "            cursor.commit()\n",
    "            db.commit()\n",
    "            print(f\"Inserted record {i}.\")\n",
    "        except Exception as e:\n",
    "            print(f\"Error inserting record {i}: {values}.\")\n",
    "            print(e)\n",
    "            pass\n",
    "\n",
    "\n",
    "def clean_crash_record(record):\n",
    "    clean_record = dict(\n",
    "        crash_date=record.get(\"crash_date\", None),\n",
    "        crash_time=record.get(\"crash_time\", None),\n",
    "        borough=record.get(\"borough\", None),\n",
    "        zip_code=record.get(\"zip_code\", None),\n",
    "        latitude=record.get(\"latitude\", None),\n",
    "        longitude=record.get(\"longitude\", None),\n",
    "        # location=record.get(\"location\", None),\n",
    "        location=None, # Nester and redundant, already have lat/lon fields\n",
    "        on_street_name=record.get(\"on_street_name\", None),\n",
    "        off_street_name=record.get(\"off_street_name\", None),\n",
    "        cross_street_name=record.get(\"cross_street_name\", None),\n",
    "        number_of_persons_injured=record.get(\"number_of_persons_injured\", None),\n",
    "        number_of_persons_killed=record.get(\"number_of_persons_killed\", None),\n",
    "        number_of_pedestrians_injured=record.get(\"number_of_pedestrians_injured\", None),\n",
    "        number_of_pedestrians_killed=record.get(\"number_of_pedestrians_killed\", None),\n",
    "        number_of_cyclist_injured=record.get(\"number_of_cyclist_injured\", None),\n",
    "        number_of_cyclist_killed=record.get(\"number_of_cyclist_killed\", None),\n",
    "        number_of_motorist_injured=record.get(\"number_of_motorist_injured\", None),\n",
    "        number_of_motorist_killed=record.get(\"number_of_motorist_killed\", None),\n",
    "        contributing_factor_vehicle_1=record.get(\"contributing_factor_vehicle_1\", None),\n",
    "        contributing_factor_vehicle_2=record.get(\"contributing_factor_vehicle_2\", None),\n",
    "        contributing_factor_vehicle_3=record.get(\"contributing_factor_vehicle_3\", None),\n",
    "        contributing_factor_vehicle_4=record.get(\"contributing_factor_vehicle_4\", None),\n",
    "        contributing_factor_vehicle_5=record.get(\"contributing_factor_vehicle_5\", None),\n",
    "        collision_id=record.get(\"collision_id\", None),\n",
    "        vehicle_type_code1=record.get(\"vehicle_type_code1\", None),\n",
    "        vehicle_type_code2=record.get(\"vehicle_type_code2\", None),\n",
    "        vehicle_type_code_3=record.get(\"vehicle_type_code_3\", None),\n",
    "        vehicle_type_code_4=record.get(\"vehicle_type_code_4\", None),\n",
    "        vehicle_type_code_5=record.get(\"vehicle_type_code_5\", None),\n",
    "    )\n",
    "    return clean_record\n",
    "import csv\n",
    "def load_to_csv(data, csv_filename):\n",
    "    with open(f'resources/{csv_filename}', 'w', encoding='utf-8', newline='\\n') as f:\n",
    "        clean_data = [clean_crash_record(record) for record in data]\n",
    "        writer = csv.DictWriter(f, fieldnames=clean_data[0].keys())\n",
    "        writer.writeheader()\n",
    "        writer.writerows(clean_data)\n"
   ]
  },
  {
   "cell_type": "code",
   "execution_count": 67,
   "metadata": {},
   "outputs": [],
   "source": [
    "load_to_csv(data[\"crash_data\"], \"crash_data.csv\")"
   ]
  },
  {
   "cell_type": "code",
   "execution_count": 62,
   "metadata": {},
   "outputs": [
    {
     "name": "stdout",
     "output_type": "stream",
     "text": [
      "There are 1000 records to load.\n",
      "Error inserting record 1: dict_values(['2022-01-02T00:00:00.000', '9:20', 'NULL', 'NULL', 'NULL', 'NULL', 'NULL', 'VANDAM STREET', 'BORDEN AVENUE', 'NULL', '0', '0', '0', '0', '0', '0', '0', '0', 'Failure to Yield Right-of-Way', 'Unspecified', 'NULL', 'NULL', 'NULL', '4491517', 'Sedan', 'Box Truck', 'NULL', 'NULL', 'NULL']).\n",
      "parameters are of unsupported type\n",
      "Error inserting record 2: dict_values(['2022-01-02T00:00:00.000', '12:50', 'QUEENS', '11373', '40.735065', '-73.88184', 'NULL', 'GRAND AVENUE', 'VANKLEECK STREET', 'NULL', '0', '0', '0', '0', '0', '0', '0', '0', 'Unspecified', 'Unspecified', 'NULL', 'NULL', 'NULL', '4492016', 'Sedan', 'Bike', 'NULL', 'NULL', 'NULL']).\n",
      "parameters are of unsupported type\n",
      "Error inserting record 3: dict_values(['2022-01-02T00:00:00.000', '0:30', 'NULL', 'NULL', '40.69919', '-73.91469', 'NULL', 'IRVING AVENUE', 'NULL', 'NULL', '0', '0', '0', '0', '0', '0', '0', '0', 'Turning Improperly', 'NULL', 'NULL', 'NULL', 'NULL', '4491657', 'Sedan', 'NULL', 'NULL', 'NULL', 'NULL']).\n",
      "parameters are of unsupported type\n",
      "Error inserting record 4: dict_values(['2022-01-02T00:00:00.000', '8:44', 'BRONX', '10460', '40.842224', '-73.88776', 'NULL', 'NULL', 'NULL', '1902      MARMION AVENUE', '0', '0', '0', '0', '0', '0', '0', '0', 'Driver Inexperience', 'Unspecified', 'NULL', 'NULL', 'NULL', '4491839', 'Sedan', 'Station Wagon/Sport Utility Vehicle', 'NULL', 'NULL', 'NULL']).\n",
      "parameters are of unsupported type\n",
      "Error inserting record 5: dict_values(['2022-01-02T00:00:00.000', '4:15', 'NULL', 'NULL', '40.74321', '-73.89608', 'NULL', 'BROOKLYN QUEENS EXPRESSWAY', 'NULL', 'NULL', '0', '0', '0', '0', '0', '0', '0', '0', 'Unspecified', 'NULL', 'NULL', 'NULL', 'NULL', '4491367', 'Sedan', 'NULL', 'NULL', 'NULL', 'NULL']).\n",
      "parameters are of unsupported type\n",
      "Error inserting record 6: dict_values(['2022-01-02T00:00:00.000', '22:45', 'NULL', 'NULL', 'NULL', 'NULL', 'NULL', 'NEW ENGLAND THRUWAY', 'NULL', 'NULL', '2', '0', '0', '0', '0', '0', '2', '0', 'Unspecified', 'Unspecified', 'Unspecified', 'NULL', 'NULL', '4491741', 'Sedan', 'Station Wagon/Sport Utility Vehicle', 'Station Wagon/Sport Utility Vehicle', 'NULL', 'NULL']).\n",
      "parameters are of unsupported type\n",
      "Error inserting record 7: dict_values(['2022-01-02T00:00:00.000', '3:00', 'NULL', 'NULL', '40.76294', '-73.86067', 'NULL', 'GRAND CENTRAL PKWY', 'NULL', 'NULL', '0', '0', '0', '0', '0', '0', '0', '0', 'Driver Inattention/Distraction', 'Unspecified', 'NULL', 'NULL', 'NULL', '4491464', 'Ambulance', 'NULL', 'NULL', 'NULL', 'NULL']).\n",
      "parameters are of unsupported type\n",
      "Error inserting record 8: dict_values(['2022-01-02T00:00:00.000', '8:40', 'BRONX', '10460', '40.842117', '-73.88786', 'NULL', 'MARMION AVENUE', 'FAIRMOUNT PLACE', 'NULL', '0', '0', '0', '0', '0', '0', '0', '0', 'Driver Inattention/Distraction', 'Unspecified', 'NULL', 'NULL', 'NULL', '4491595', 'Station Wagon/Sport Utility Vehicle', 'NULL', 'NULL', 'NULL', 'NULL']).\n",
      "parameters are of unsupported type\n",
      "Error inserting record 9: dict_values(['2022-01-02T00:00:00.000', '11:15', 'NULL', 'NULL', '40.676003', '-73.865395', 'NULL', 'GRANT AVENUE', 'CONDUIT BOULEVARD', 'NULL', '0', '0', '0', '0', '0', '0', '0', '0', 'Driver Inattention/Distraction', 'Unspecified', 'NULL', 'NULL', 'NULL', '4491561', 'Sedan', 'NULL', 'NULL', 'NULL', 'NULL']).\n",
      "parameters are of unsupported type\n",
      "Error inserting record 10: dict_values(['2022-01-02T00:00:00.000', '16:00', 'QUEENS', '11421', '40.695827', '-73.855385', 'NULL', '85 ROAD', '90 STREET', 'NULL', '0', '0', '0', '0', '0', '0', '0', '0', 'Backing Unsafely', 'Unspecified', 'NULL', 'NULL', 'NULL', '4491510', 'Sedan', 'NULL', 'NULL', 'NULL', 'NULL']).\n",
      "parameters are of unsupported type\n"
     ]
    }
   ],
   "source": [
    "load(data)"
   ]
  },
  {
   "cell_type": "code",
   "execution_count": null,
   "metadata": {},
   "outputs": [
    {
     "name": "stdout",
     "output_type": "stream",
     "text": [
      "Status Code: 401\n",
      "Content: b'{\"cod\":401, \"message\": \"Invalid API key. Please see http://openweathermap.org/faq#error401 for more info.\"}'\n"
     ]
    }
   ],
   "source": [
    "lat, lon = 40.7128, -74.0060\n",
    "appid = \"REDACTED\"\n",
    "response = requests.get(f\"https://history.openweathermap.org/data/2.5/history/city?lat={lat}&lon={lon}&type=hour&appid={appid}\")\n",
    "print(f\"Status Code: {response.status_code}\")\n",
    "print(f\"Content: {response.content}\")"
   ]
  },
  {
   "cell_type": "code",
   "execution_count": null,
   "metadata": {},
   "outputs": [],
   "source": []
  }
 ],
 "metadata": {
  "kernelspec": {
   "display_name": "bootcamp",
   "language": "python",
   "name": "python3"
  },
  "language_info": {
   "codemirror_mode": {
    "name": "ipython",
    "version": 3
   },
   "file_extension": ".py",
   "mimetype": "text/x-python",
   "name": "python",
   "nbconvert_exporter": "python",
   "pygments_lexer": "ipython3",
   "version": "3.12.4"
  }
 },
 "nbformat": 4,
 "nbformat_minor": 2
}
